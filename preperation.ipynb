{
 "cells": [
  {
   "cell_type": "markdown",
   "id": "b7823f60",
   "metadata": {},
   "source": [
    "**Prepetation file voor dataproject**\n",
    "\n",
    "Dit is het preperation document, waar ik alle voorbereidingen doe voor het maken van het lineaire regressie model. Ik gebruik hiervoor een dataset met het aantal doden door melanomen en het aantal voorkomsten van melanomen per Amerikaanse staat. Vervolgens voeg ik dit samen met de gemiddelde hoeveelheid UV straling per staat, en zet ik dit samen in een dataframe. Dit dataframe download ik als csv bestand in mijn datascience directory. "
   ]
  },
  {
   "cell_type": "code",
   "execution_count": 6,
   "id": "cf009c81",
   "metadata": {},
   "outputs": [],
   "source": [
    "import pandas as pd\n",
    "import numpy as np\n",
    "\n",
    "def import_dataset(deaths_data, cases_data, UV_data):\n",
    "    \"\"\"Function that imports the 3 datasets with information about the deaths, cases and UV-UV_index\n",
    "    per US state. Afterwards, data is ready to be processed into one dataset.\n",
    "    Returns 3 dataframes containing the death, cases and UV dataset.\"\"\"\n",
    "\n",
    "    #Importing the mortality.csv file\n",
    "    df_deaths = pd.read_csv(deaths_data, header = 1)\n",
    "    df_deaths.drop(df_deaths.columns[[1, 2, 3, 4, 6]], axis = 1, inplace = True)\n",
    "    df_deaths.rename(columns={\"Upper CI\": \"Deaths\"}, inplace = True)\n",
    "    df_deaths.sort_values('Area', inplace = True) #returns dataframe with two columns\n",
    "\n",
    "    # Importing the Incidence.csv file\n",
    "    df_cases = pd.read_csv(cases_data, header = 1)\n",
    "    df_cases.drop(df_cases.columns[[1, 2, 3, 4, 6]], axis = 1, inplace = True)\n",
    "    df_cases.rename(columns={\"Upper CI\": \"Incidence\"}, inplace = True)\n",
    "    df_cases.sort_values('Area', inplace = True) #returns dataframe with two columns\n",
    "\n",
    "    # Importing the UV_index.csv file,\n",
    "    df_UV_index = pd.read_csv(UV_data)\n",
    "    df_UV_index.drop(df_UV_index.columns[[1, 2, 3]], axis = 1, inplace = True)\n",
    "    df_UV_index.rename(columns={\"UV_ Wh/m_\": \"Average_UV_Wh/m\", \"STATENAME\": \"Area\"}, inplace = True)\n",
    "    mean_per_state = df_UV_index.groupby(['Area']).mean() #returns dataframe with two columns\n",
    "\n",
    "    return df_deaths, df_cases, mean_per_state # dataframes are ready to be merged together\n",
    "\n",
    "def combining_datasets(deaths, cases, UV):\n",
    "    \"\"\"Function makes one dataframe containing all the columns needed for the regression model.\n",
    "    Returns one datasset that can be used to make the regression model. \"\"\"\n",
    "    \n",
    "    result = pd.merge(pd.merge(deaths, cases, on= 'Area'), UV, on= 'Area')\n",
    "\n",
    "    return result\n",
    "\n",
    "if __name__ == '__main__':\n",
    "    \"\"\" Main Function\"\"\"\n",
    "    df_deaths, df_cases, df_UV_index = import_dataset('Mortality.csv', 'Incidence.csv', 'uv-county.csv')\n",
    "    \n",
    "    # Combining the columns of the dataframes to one merged dataframe\n",
    "    combined_df = combining_datasets(df_deaths, df_cases, df_UV_index)\n",
    "    \n",
    "    #Downloading the dataframe for further analysis\n",
    "    combined_df.to_csv('melanoma.csv', index = False, header= True)\n",
    "    "
   ]
  },
  {
   "cell_type": "code",
   "execution_count": null,
   "id": "b128adc0",
   "metadata": {},
   "outputs": [],
   "source": []
  }
 ],
 "metadata": {
  "kernelspec": {
   "display_name": "Python 3 (ipykernel)",
   "language": "python",
   "name": "python3"
  },
  "language_info": {
   "codemirror_mode": {
    "name": "ipython",
    "version": 3
   },
   "file_extension": ".py",
   "mimetype": "text/x-python",
   "name": "python",
   "nbconvert_exporter": "python",
   "pygments_lexer": "ipython3",
   "version": "3.9.2"
  }
 },
 "nbformat": 4,
 "nbformat_minor": 5
}
