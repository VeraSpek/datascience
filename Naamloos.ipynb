{
 "cells": [
  {
   "cell_type": "markdown",
   "id": "37593644",
   "metadata": {},
   "source": [
    "In dit Jupyter bestand ben ik begonnen met het maken van mijn Data science project. Het doel van het project is het maken van een model dat kijkt of er een verband is tussen de UV index per staat in de VS en het aantal vastgestelde melanomen. \n",
    "\n",
    "Als eerste ga ik de benodigde libraries importeren. "
   ]
  },
  {
   "cell_type": "code",
   "execution_count": null,
   "id": "d6daf250",
   "metadata": {},
   "outputs": [],
   "source": [
    "import pandas as pd\n",
    "import numpy as np"
   ]
  },
  {
   "cell_type": "markdown",
   "id": "3b209b2b",
   "metadata": {},
   "source": [
    "Data inladen in van csv bestand naar een dataframe"
   ]
  },
  {
   "cell_type": "code",
   "execution_count": 3,
   "id": "518453d8",
   "metadata": {},
   "outputs": [
    {
     "ename": "IndentationError",
     "evalue": "unexpected indent (2396138652.py, line 2)",
     "output_type": "error",
     "traceback": [
      "\u001b[0;36m  Cell \u001b[0;32mIn[3], line 2\u001b[0;36m\u001b[0m\n\u001b[0;31m    df_deaths.rename(columns={\"000\": \"Lower CI\", \"Lower CI\": \"Upper CI\", \"Upper CI\": \"Absolute_number\"}, inplace = True)#renaming columns because they are not aligned with the data correctly\u001b[0m\n\u001b[0m    ^\u001b[0m\n\u001b[0;31mIndentationError\u001b[0m\u001b[0;31m:\u001b[0m unexpected indent\n"
     ]
    }
   ],
   "source": [
    "df_deaths = pd.read_csv(deaths_data, header = 1)\n",
    "    df_deaths.rename(columns={\"000\": \"Lower CI\", \"Lower CI\": \"Upper CI\", \"Upper CI\": \"Absolute_number\"}, inplace = True)g columns because they are not aligned with the data correctly\n",
    "    del df_deaths[df_deaths.columns[-1]]\n",
    "    print(df_deaths)"
   ]
  },
  {
   "cell_type": "code",
   "execution_count": null,
   "id": "5bc6cc16",
   "metadata": {},
   "outputs": [],
   "source": []
  }
 ],
 "metadata": {
  "kernelspec": {
   "display_name": "Python 3 (ipykernel)",
   "language": "python",
   "name": "python3"
  },
  "language_info": {
   "codemirror_mode": {
    "name": "ipython",
    "version": 3
   },
   "file_extension": ".py",
   "mimetype": "text/x-python",
   "name": "python",
   "nbconvert_exporter": "python",
   "pygments_lexer": "ipython3",
   "version": "3.9.2"
  }
 },
 "nbformat": 4,
 "nbformat_minor": 5
}
